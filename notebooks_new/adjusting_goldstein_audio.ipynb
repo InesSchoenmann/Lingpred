{
 "cells": [
  {
   "cell_type": "code",
   "execution_count": null,
   "id": "07005547",
   "metadata": {},
   "outputs": [],
   "source": [
    "import librosa\n",
    "import soundfile as sf\n",
    "import numpy as np\n",
    "\n",
    "# load audio that has been cut to start exactly with the first words that appear in Goldstein's dataframe, i.e., \"Act One\"\n",
    "y, sr = librosa.load(\"/Users/ines/research/Lingpred/audio/Goldstein/Monkey_in_the_middle_starting_from_\\\"Act\\\".wav\", sr=None)  # sr=None keeps original sampling rate\n",
    "\n",
    "# In the dataframe, the first word, i.e., \"Act\" has its onset at 3.710s\n",
    "# In order for this word to have the same onset in our audio, we add 3.71s of silence to the audio\n",
    "silence_duration = 3.71  # The onset in seconds in the dataframe of the first word\n",
    "silence_samples  = int(sr * silence_duration)\n",
    "\n",
    "# create silence array\n",
    "silence = np.zeros(silence_samples)\n",
    "\n",
    "# prepend silence to audio\n",
    "y_with_silence = np.concatenate([silence, y])\n",
    "\n",
    "# save back to wav\n",
    "sf.write(\"/Users/ines/research/Lingpred/audio/Goldstein/monkey_and_horse_corrected.wav\", y_with_silence, sr)\n"
   ]
  },
  {
   "cell_type": "code",
   "execution_count": null,
   "id": "3dd1504e",
   "metadata": {},
   "outputs": [],
   "source": []
  }
 ],
 "metadata": {
  "kernelspec": {
   "display_name": "audio_env",
   "language": "python",
   "name": "python3"
  },
  "language_info": {
   "codemirror_mode": {
    "name": "ipython",
    "version": 3
   },
   "file_extension": ".py",
   "mimetype": "text/x-python",
   "name": "python",
   "nbconvert_exporter": "python",
   "pygments_lexer": "ipython3",
   "version": "3.10.18"
  }
 },
 "nbformat": 4,
 "nbformat_minor": 5
}
