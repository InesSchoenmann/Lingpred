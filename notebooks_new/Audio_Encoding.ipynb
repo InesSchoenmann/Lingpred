{
 "cells": [
  {
   "cell_type": "markdown",
   "id": "7f7aaaa5",
   "metadata": {},
   "source": [
    "# Encoding the Audio"
   ]
  },
  {
   "cell_type": "code",
   "execution_count": 2,
   "id": "d63c5fea",
   "metadata": {},
   "outputs": [],
   "source": [
    "import sys \n",
    "import os \n",
    "import pickle \n",
    "import numpy as np\n",
    "import spacy\n",
    "import seaborn as sns\n",
    "import matplotlib as plt \n",
    "import matplotlib.pyplot as plt \n",
    "\n",
    "sys.path.append(os.path.abspath(\"../lingpred_new/\"))\n",
    "from plotting import colours\n",
    "from encoding_analysis import regress_out_one, make_arbitrary_static_vectors, brainscore_no_coef\n",
    "from utils import get_words_onsets_offsets, get_indices_per_task, make_y_matrix_per_run\n"
   ]
  },
  {
   "cell_type": "code",
   "execution_count": 3,
   "id": "f27a2eaf",
   "metadata": {},
   "outputs": [
    {
     "data": {
      "text/plain": [
       "((5136, 300), (5135, 300))"
      ]
     },
     "execution_count": 3,
     "metadata": {},
     "output_type": "execute_result"
    }
   ],
   "source": [
    "dataset  = 'Goldstein'\n",
    "\n",
    "# Let's get X matrices for arbitrary vectors:\n",
    "words_df = get_words_onsets_offsets(dataset)\n",
    "X        = make_arbitrary_static_vectors(words_df, dim=300)\n",
    "\n",
    "X_residualised = regress_out_one(X)\n",
    "X.shape, X_residualised.shape\n"
   ]
  },
  {
   "cell_type": "code",
   "execution_count": 4,
   "id": "4039f1b2",
   "metadata": {},
   "outputs": [
    {
     "data": {
      "text/plain": [
       "(5136, 9)"
      ]
     },
     "execution_count": 4,
     "metadata": {},
     "output_type": "execute_result"
    }
   ],
   "source": [
    "\n",
    "with open('/Users/ines/research/Lingpred/audio/Goldstein/acoustic_model_8_mels_averaged_per_word.pkl', 'rb') as f:\n",
    "    acoustics = pickle.load(f)\n",
    "\n",
    "acoustics.shape"
   ]
  },
  {
   "cell_type": "code",
   "execution_count": 5,
   "id": "e3d8089e",
   "metadata": {},
   "outputs": [
    {
     "data": {
      "text/plain": [
       "(5136, 157)"
      ]
     },
     "execution_count": 5,
     "metadata": {},
     "output_type": "execute_result"
    }
   ],
   "source": [
    "'''\n",
    "Compute the indices for making the y matrix\n",
    "-------------------------------------------\n",
    "This is already saved under audio/Goldstein/indices_all_tasks.pkl\n",
    "No need to run this again, this will take 10 min\n",
    "\n",
    "#indices = get_indices_per_task(dataset)\n",
    "#indices.shape\n",
    "\n",
    "dir_path = '/Users/ines/research/Lingpred/audio/Goldstein/'\n",
    "file_name = 'indices_all_tasks.pkl'\n",
    "path      = dir_path + file_name\n",
    "\n",
    "print(path)\n",
    "f = open(path,\"wb\")\n",
    "pickle.dump(indices, f)\n",
    "f.close()\n",
    "'''\n",
    "\n",
    "\n",
    "# load the indices:\n",
    "with open('/Users/ines/research/Lingpred/audio/Goldstein/indices_all_tasks.pkl', 'rb') as f:\n",
    "    indices = pickle.load(f)\n",
    "\n",
    "indices.shape"
   ]
  },
  {
   "cell_type": "code",
   "execution_count": 6,
   "id": "64592ac2",
   "metadata": {},
   "outputs": [
    {
     "data": {
      "text/plain": [
       "(array([[0, 0, 0, 0, 0, 0, 0, 0, 0, 0, 0, 0, 0, 0, 0, 0, 0, 0, 0, 0, 0, 0,\n",
       "         0, 0, 0, 0, 0, 0, 0, 0, 0, 0, 0, 0, 0, 0, 0, 0, 0, 0, 0, 0, 0, 0,\n",
       "         0, 0, 0, 0, 0, 0, 0, 0, 0, 0, 0, 0, 0, 0, 0, 0, 0, 0, 0, 0, 0, 0,\n",
       "         0, 0, 0, 0, 0, 0, 0, 0, 0, 0, 0, 0, 0, 0, 0, 0, 0, 0, 0, 0, 0, 0,\n",
       "         0, 0, 1, 1, 1, 1, 1, 1, 1, 1, 1, 1, 1, 1, 1, 1, 1, 1, 1, 1, 1, 1,\n",
       "         1, 1, 1, 1, 1, 1, 2, 2, 2, 2, 2, 2, 2, 2, 2, 2, 2, 2, 3, 3, 3, 3,\n",
       "         4, 4, 4, 4, 5, 5, 5, 5, 5, 5, 5, 5, 5, 5, 5, 5, 5, 5, 5, 5, 5, 5,\n",
       "         5, 5, 5]]),\n",
       " array([[5129, 5129, 5129, 5129, 5129, 5129, 5129, 5129, 5129, 5129, 5129,\n",
       "         5129, 5129, 5129, 5129, 5129, 5129, 5129, 5129, 5129, 5129, 5129,\n",
       "         5129, 5129, 5129, 5129, 5129, 5129, 5129, 5129, 5129, 5129, 5129,\n",
       "         5129, 5129, 5129, 5129, 5129, 5129, 5129, 5129, 5129, 5130, 5130,\n",
       "         5130, 5130, 5130, 5131, 5131, 5131, 5131, 5131, 5132, 5132, 5132,\n",
       "         5132, 5132, 5133, 5133, 5133, 5133, 5133, 5133, 5133, 5133, 5133,\n",
       "         5133, 5134, 5134, 5134, 5134, 5134, 5134, 5134, 5134, 5134, 5134,\n",
       "         5134, 5135, 5135, 5135, 5135, 5135, 5135, 5135, 5135, 5135, 5135,\n",
       "         5135, 5135, 5135, 5135, 5135, 5135, 5135, 5135, 5135, 5135, 5135,\n",
       "         5135, 5135, 5135, 5135, 5135, 5135, 5135, 5135, 5135, 5135, 5135,\n",
       "         5135, 5135, 5135, 5135, 5135, 5135, 5135, 5135, 5135, 5135, 5135,\n",
       "         5135, 5135, 5135, 5135, 5135, 5135, 5135, 5135, 5135, 5135, 5135,\n",
       "         5135, 5135, 5135, 5135, 5135, 5135, 5135, 5135, 5135, 5135, 5135,\n",
       "         5135, 5135, 5135, 5135, 5135, 5135, 5135, 5135, 5135, 5135, 5135,\n",
       "         5135, 5135, 5135]]))"
      ]
     },
     "execution_count": 6,
     "metadata": {},
     "output_type": "execute_result"
    }
   ],
   "source": [
    "# check that they look alright:\n",
    "indices[:1], indices[-1:]"
   ]
  },
  {
   "cell_type": "code",
   "execution_count": 7,
   "id": "8145866b",
   "metadata": {},
   "outputs": [
    {
     "data": {
      "text/plain": [
       "(5136, 157, 9)"
      ]
     },
     "execution_count": 7,
     "metadata": {},
     "output_type": "execute_result"
    }
   ],
   "source": [
    "# use indices to make an acoustic y matrix of shape (length, 157, dim)\n",
    "y_acoustics = make_y_matrix_per_run(acoustics, indices)\n",
    "y_acoustics.shape"
   ]
  },
  {
   "cell_type": "code",
   "execution_count": 8,
   "id": "b3a454a7",
   "metadata": {},
   "outputs": [
    {
     "data": {
      "text/plain": [
       "array([8.04137516, 8.04137516, 8.04137516, 8.04137516, 8.04137516,\n",
       "       8.04137516, 8.04137516, 8.04137516, 8.04137516, 8.04137516])"
      ]
     },
     "execution_count": 8,
     "metadata": {},
     "output_type": "execute_result"
    }
   ],
   "source": [
    "y_acoustics[1, 0:10, 0] # check the first 9 values for the first timepoint/word"
   ]
  },
  {
   "cell_type": "code",
   "execution_count": 9,
   "id": "eae90c80",
   "metadata": {},
   "outputs": [
    {
     "data": {
      "text/html": [
       "<div>\n",
       "<style scoped>\n",
       "    .dataframe tbody tr th:only-of-type {\n",
       "        vertical-align: middle;\n",
       "    }\n",
       "\n",
       "    .dataframe tbody tr th {\n",
       "        vertical-align: top;\n",
       "    }\n",
       "\n",
       "    .dataframe thead th {\n",
       "        text-align: right;\n",
       "    }\n",
       "</style>\n",
       "<table border=\"1\" class=\"dataframe\">\n",
       "  <thead>\n",
       "    <tr style=\"text-align: right;\">\n",
       "      <th></th>\n",
       "      <th>word</th>\n",
       "      <th>onset</th>\n",
       "      <th>offset</th>\n",
       "    </tr>\n",
       "  </thead>\n",
       "  <tbody>\n",
       "    <tr>\n",
       "      <th>0</th>\n",
       "      <td>Act</td>\n",
       "      <td>3.710</td>\n",
       "      <td>3.790</td>\n",
       "    </tr>\n",
       "    <tr>\n",
       "      <th>1</th>\n",
       "      <td>one,</td>\n",
       "      <td>3.990</td>\n",
       "      <td>4.190</td>\n",
       "    </tr>\n",
       "    <tr>\n",
       "      <th>2</th>\n",
       "      <td>monkey</td>\n",
       "      <td>4.651</td>\n",
       "      <td>4.931</td>\n",
       "    </tr>\n",
       "    <tr>\n",
       "      <th>3</th>\n",
       "      <td>in</td>\n",
       "      <td>4.951</td>\n",
       "      <td>5.011</td>\n",
       "    </tr>\n",
       "    <tr>\n",
       "      <th>4</th>\n",
       "      <td>the</td>\n",
       "      <td>5.051</td>\n",
       "      <td>5.111</td>\n",
       "    </tr>\n",
       "  </tbody>\n",
       "</table>\n",
       "</div>"
      ],
      "text/plain": [
       "     word  onset  offset\n",
       "0     Act  3.710   3.790\n",
       "1    one,  3.990   4.190\n",
       "2  monkey  4.651   4.931\n",
       "3      in  4.951   5.011\n",
       "4     the  5.051   5.111"
      ]
     },
     "execution_count": 9,
     "metadata": {},
     "output_type": "execute_result"
    }
   ],
   "source": [
    "annotations_df = get_words_onsets_offsets(dataset)\n",
    "annotations_df.head()"
   ]
  },
  {
   "cell_type": "code",
   "execution_count": 10,
   "id": "c4d3052b",
   "metadata": {},
   "outputs": [
    {
     "data": {
      "text/plain": [
       "((5136, 300), (5135, 300))"
      ]
     },
     "execution_count": 10,
     "metadata": {},
     "output_type": "execute_result"
    }
   ],
   "source": [
    "nlp     = spacy.load('en_core_web_lg')\n",
    "X_Glove = np.vstack([nlp(word).vector for word in annotations_df.word]) # np array of shape (nr_words, 300)\n",
    "#X_Glove = np.array(X_Glove.get()) # transform from cupy to numpy array for stacking later on \n",
    "X_Glove_residualised = regress_out_one(X_Glove)\n",
    "X_Glove.shape, X_Glove_residualised.shape\n",
    "    "
   ]
  },
  {
   "cell_type": "code",
   "execution_count": 29,
   "id": "31b556b5",
   "metadata": {},
   "outputs": [
    {
     "name": "stdout",
     "output_type": "stream",
     "text": [
      "y has shape  (157, 5135, 9)\n",
      "We are now in the brainscore_no_coef method, and y has shape:\n",
      "(157, 5135, 9)\n",
      "We are now in the brainscore_no_coef method, and y has shape:\n",
      "(157, 5135, 9)\n"
     ]
    }
   ],
   "source": [
    "y = y_acoustics[1:]\n",
    "y = np.swapaxes(y, 0, 1)\n",
    "print('y has shape ', y.shape)\n",
    "\n",
    "encoding_arbitrary_residualised = brainscore_no_coef(X_residualised, y)\n",
    "encoding_Glove_residualised     = brainscore_no_coef(X_Glove_residualised, y)"
   ]
  },
  {
   "cell_type": "code",
   "execution_count": 23,
   "id": "84854ae8",
   "metadata": {},
   "outputs": [
    {
     "name": "stdout",
     "output_type": "stream",
     "text": [
      "/Users/ines/research/Lingpred/audio/Goldstein/regressed_out_vectors_Glove_arbitrary_y_matrix_like_selfpred.pkl\n"
     ]
    }
   ],
   "source": [
    "directory = '/Users/ines/research/Lingpred/audio/Goldstein/'\n",
    "file_name = 'regressed_out_vectors_Glove_arbitrary_y_matrix_like_selfpred.pkl'\n",
    "path      = directory + file_name\n",
    "print(path)\n",
    "\n",
    "keys    = ['corr_Glove', 'corr_arbitrary']\n",
    "values  = [encoding_Glove_residualised, encoding_arbitrary_residualised]\n",
    "results = dict(zip(keys, values))\n",
    "\n",
    "f = open(path,\"wb\")\n",
    "pickle.dump(results, f)\n",
    "f.close()\n"
   ]
  },
  {
   "cell_type": "code",
   "execution_count": 12,
   "id": "e3b00a8c",
   "metadata": {},
   "outputs": [
    {
     "name": "stdout",
     "output_type": "stream",
     "text": [
      "y has shape  (157, 5136, 9)\n",
      "We are now in the brainscore_no_coef method, and y has shape:\n",
      "(157, 5136, 9)\n",
      "We are now in the brainscore_no_coef method, and y has shape:\n",
      "(157, 5136, 9)\n"
     ]
    }
   ],
   "source": [
    "y = y_acoustics\n",
    "y = np.swapaxes(y, 0, 1)\n",
    "print('y has shape ', y.shape)\n",
    "\n",
    "encoding_arbitrary = brainscore_no_coef(X, y)\n",
    "encoding_Glove     = brainscore_no_coef(X_Glove, y)"
   ]
  },
  {
   "cell_type": "code",
   "execution_count": 13,
   "id": "cc937b05",
   "metadata": {},
   "outputs": [
    {
     "name": "stdout",
     "output_type": "stream",
     "text": [
      "/Users/ines/research/Lingpred/audio/Goldstein/vectors_Glove_arbitrary_y_matrix_like_selfpred.pkl\n"
     ]
    }
   ],
   "source": [
    "directory = '/Users/ines/research/Lingpred/audio/Goldstein/'\n",
    "file_name = 'vectors_Glove_arbitrary_y_matrix_like_selfpred.pkl'\n",
    "path      = directory + file_name\n",
    "print(path)\n",
    "\n",
    "keys    = ['corr_Glove', 'corr_arbitrary']\n",
    "values  = [encoding_Glove, encoding_arbitrary]\n",
    "results = dict(zip(keys, values))\n",
    "\n",
    "f = open(path,\"wb\")\n",
    "pickle.dump(results, f)\n",
    "f.close()"
   ]
  },
  {
   "cell_type": "code",
   "execution_count": 14,
   "id": "ee5f87ab",
   "metadata": {},
   "outputs": [],
   "source": [
    "from plotting import times_100, lowerCI, upperCI, reshape"
   ]
  },
  {
   "cell_type": "code",
   "execution_count": 27,
   "id": "8d8c39c9",
   "metadata": {},
   "outputs": [
    {
     "data": {
      "text/plain": [
       "(157, 10, 9)"
      ]
     },
     "execution_count": 27,
     "metadata": {},
     "output_type": "execute_result"
    }
   ],
   "source": [
    "encoding_Glove_residualised.shape"
   ]
  },
  {
   "cell_type": "code",
   "execution_count": 23,
   "id": "8ef46370",
   "metadata": {},
   "outputs": [
    {
     "data": {
      "text/plain": [
       "(90, 157)"
      ]
     },
     "execution_count": 23,
     "metadata": {},
     "output_type": "execute_result"
    }
   ],
   "source": [
    "encoding_Glove.reshape(-1, encoding_Glove.shape[0]).shape"
   ]
  },
  {
   "cell_type": "code",
   "execution_count": 24,
   "id": "e0717c13",
   "metadata": {},
   "outputs": [],
   "source": [
    "def reshape_x(x):\n",
    "    return x.reshape(-1, x.shape[0])"
   ]
  },
  {
   "cell_type": "code",
   "execution_count": 30,
   "id": "aa659f0c",
   "metadata": {},
   "outputs": [
    {
     "data": {
      "text/plain": [
       "<matplotlib.lines.Line2D at 0x17d4b4910>"
      ]
     },
     "execution_count": 30,
     "metadata": {},
     "output_type": "execute_result"
    },
    {
     "data": {
      "image/png": "[encoded data removed]",
      "text/plain": [
       "<Figure size 400x400 with 1 Axes>"
      ]
     },
     "metadata": {},
     "output_type": "display_data"
    }
   ],
   "source": [
    "# get model names\n",
    "models = [k.split(sep='_')[1] for k in results.keys()]\n",
    "labels = ['Residualised '+m for m in models]\n",
    "    \n",
    "    \n",
    "fig, (ax1) = plt.subplots(1, 1, figsize=(4, 4))\n",
    "\n",
    "for i, key in enumerate(results.keys()):\n",
    "    ax1.plot(times_100, results[key].mean(axis=1).mean(axis=1), c=colours[models[i]], label=labels[i])   \n",
    "    #ax1.fill_between(times_100[:78], lowerCI(reshape_x(results[key][:, :, :78])), \n",
    "    #                            upperCI(reshape_x(results[key][:, :, :78])), color=colours[models[i]], alpha=0.3)\n",
    "\n",
    "ax1.legend()\n",
    "#ax1.set_ylim([-0.005, 0.05])\n",
    "ax1.set_xlabel('Time in Seconds', fontsize=12)\n",
    "ax1.set_ylabel('Cross-validated Correlation', fontsize=12)\n",
    "ax1.axhline(c='indianred',  alpha=0.3)\n",
    "#ax1.set_title(dataset+':' + vectors)"
   ]
  },
  {
   "cell_type": "code",
   "execution_count": 28,
   "id": "7cb3dc75",
   "metadata": {},
   "outputs": [
    {
     "data": {
      "text/plain": [
       "<matplotlib.lines.Line2D at 0x17c383580>"
      ]
     },
     "execution_count": 28,
     "metadata": {},
     "output_type": "execute_result"
    },
    {
     "data": {
      "image/png": "[encoded data removed]",
      "text/plain": [
       "<Figure size 400x400 with 1 Axes>"
      ]
     },
     "metadata": {},
     "output_type": "display_data"
    }
   ],
   "source": [
    "# get model names\n",
    "models = [k.split(sep='_')[1] for k in results.keys()]\n",
    "labels = [m for m in models]\n",
    "    \n",
    "    \n",
    "fig, (ax1) = plt.subplots(1, 1, figsize=(4, 4))\n",
    "\n",
    "for i, key in enumerate(results.keys()):\n",
    "    ax1.plot(times_100, results[key].mean(axis=1).mean(axis=1), c=colours[models[i]], label=labels[i])   \n",
    "    #ax1.fill_between(times_100[:78], lowerCI(reshape_x(results[key][:78,:, :])), \n",
    "    #                            upperCI(reshape_x(results[key][:78,:, :])), color=colours[models[i]], alpha=0.3)\n",
    "\n",
    "ax1.legend()\n",
    "#ax1.set_ylim([-0.005, 0.05])\n",
    "ax1.set_xlabel('Time in Seconds', fontsize=12)\n",
    "ax1.set_ylabel('Cross-validated Correlation', fontsize=12)\n",
    "ax1.axhline(c='indianred',  alpha=0.3)\n",
    "#ax1.set_title(dataset+':' + vectors)"
   ]
  }
 ],
 "metadata": {
  "kernelspec": {
   "display_name": "encoding_env",
   "language": "python",
   "name": "python3"
  },
  "language_info": {
   "codemirror_mode": {
    "name": "ipython",
    "version": 3
   },
   "file_extension": ".py",
   "mimetype": "text/x-python",
   "name": "python",
   "nbconvert_exporter": "python",
   "pygments_lexer": "ipython3",
   "version": "3.10.18"
  }
 },
 "nbformat": 4,
 "nbformat_minor": 5
}
