{
 "cells": [
  {
   "cell_type": "markdown",
   "id": "7f01610b",
   "metadata": {},
   "source": []
  },
  {
   "cell_type": "code",
   "execution_count": null,
   "id": "15cc95a0",
   "metadata": {},
   "outputs": [],
   "source": [
    "import sys\n",
    "import os \n",
    "from pathlib import Path\n",
    "import warnings\n",
    "warnings.simplefilter(action='ignore')\n",
    "import numpy as np\n",
    "\n",
    "sys.path.insert(0, str(Path().absolute() / \"Lingpred\"))\n",
    "from lingpred_new.encoding_analysis import compute_corr"
   ]
  },
  {
   "cell_type": "markdown",
   "id": "f281b4de",
   "metadata": {},
   "source": [
    "With this notebook, you can compute the brainscore for the Armeni dataset for:\n",
    "- 'Glove', 'GPT' and 'arbitrary' vectors\n",
    "- using the regressed_out form of these vectors by setting that flag\n",
    "- computing that with the bigrams removed by setting that flag\n",
    "- or both, by setting both flags to True\n",
    "\n",
    "Results will be saved in the grand_average folder of the results/Armani folder"
   ]
  },
  {
   "cell_type": "code",
   "execution_count": null,
   "id": "ed9c605d",
   "metadata": {},
   "outputs": [],
   "source": [
    "# Define the subjects, sessions \n",
    "# and whether or not we want to regress out the shared information from previous vectors\n",
    "regress_out    = False\n",
    "remove_bigrams = False\n",
    "subjects = [1, 2, 3] \n",
    "sessions = np.arange(1, 11)\n",
    "models   = ['Arbitrary', 'Glove', 'GPT'] "
   ]
  },
  {
   "cell_type": "code",
   "execution_count": null,
   "id": "d9a0b9f0",
   "metadata": {},
   "outputs": [],
   "source": [
    "# this computes the correlation and saves it as well as the X matrix\n",
    "# per default it uses regressed out vectors which are not defined for the Acoustic model: \n",
    "for model in models:\n",
    "    print('This is model: ', model)\n",
    "    compute_corr(subjects, sessions, model, regress_out=regress_out, bigrams_removed=remove_bigrams)"
   ]
  },
  {
   "cell_type": "code",
   "execution_count": null,
   "id": "85867958",
   "metadata": {},
   "outputs": [],
   "source": []
  }
 ],
 "metadata": {
  "language_info": {
   "name": "python"
  }
 },
 "nbformat": 4,
 "nbformat_minor": 5
}
