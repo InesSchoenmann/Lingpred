{
 "cells": [
  {
   "cell_type": "code",
   "execution_count": 1,
   "id": "d4f56486",
   "metadata": {},
   "outputs": [],
   "source": [
    "import sys\n",
    "import os \n",
    "from pathlib import Path\n",
    "\n",
    "import pickle \n",
    "import numpy as np\n",
    "import pandas as pd\n",
    "sys.path.insert(0,str('/Users/ines/research/Lingpred'))\n",
    "sys.path.insert(0,str(Path().absolute()/\"Lingpred\"))\n",
    "import lingpred_new\n",
    "from lingpred_new.encoding_analysis import self_predictability\n",
    "    \n",
    "import seaborn as sns\n",
    "import matplotlib as plt\n",
    "from matplotlib import pyplot as plt\n",
    "sns.set_theme()"
   ]
  },
  {
   "cell_type": "code",
   "execution_count": null,
   "id": "51a03be0",
   "metadata": {},
   "outputs": [],
   "source": [
    "dataset = 'Armani'\n",
    "#dataset = 'Gwilliams'\n",
    "#dataset = 'Goldstein'\n",
    "data_path    = '/project/3018059.03/Lingpred/data/{}/self_predictability/'.format(dataset)\n",
    "results_path = '/project/3018059.03/Lingpred/results/{}/self_predictability/'.format(dataset)"
   ]
  },
  {
   "cell_type": "code",
   "execution_count": null,
   "id": "99bc5b02",
   "metadata": {},
   "outputs": [],
   "source": [
    "\n",
    "# load dataframe with the surprisal & prediction values:\n",
    "path = '/project/3018059.03/Lingpred/data/{}/Dataframe_WordSurprisal_Top10Words_All_Sessions.pkl'.format(dataset)\n",
    "df   = pickle.load(open(path, 'rb'))\n",
    "        \n",
    "# make masks for correct and incorrect top-5 prediction\n",
    "is_top_5      = df.is_Top_5.to_numpy()\n",
    "is_not_top_5  = np.array([not x for x in is_top_5])\n",
    "\n",
    "# make masks for correct and incorrect top-5 prediction\n",
    "is_top_1      = df.is_Top_1.to_numpy()\n",
    "is_not_top_1  = np.array([not x for x in is_top_1])"
   ]
  },
  {
   "cell_type": "code",
   "execution_count": null,
   "id": "f2a14174",
   "metadata": {},
   "outputs": [],
   "source": [
    "# get dataframe to make the bigram mask:\n",
    "df_words_all = pd.DataFrame()\n",
    "\n",
    "for session in np.arange(1, 11):\n",
    "    df_words = lingpred_new.io.get_words_onsets_offsets(None, \n",
    "                                                    dataset=dataset, \n",
    "                                                    subject=1, \n",
    "                                                    session=session, \n",
    "                                                    run=1)\n",
    "    df_words_all = df_words_all.append(df_words)\n",
    "\n",
    "bigram_mask = lingpred_new.utils.get_bigram_mask(df_words_all)"
   ]
  },
  {
   "cell_type": "code",
   "execution_count": null,
   "id": "025e2f5a",
   "metadata": {},
   "outputs": [],
   "source": [
    "if dataset== 'Armani':\n",
    "    file_name  = 'X_y_matrices_Glove_GPT_arbitrary_session_1.pkl'\n",
    "if dataset== 'Gwilliams':\n",
    "    file_name  = 'X_y_matrices_GPT_Glove_arbitrary.pkl'\n",
    "filepath = data_path + file_name\n",
    "data     = pickle.load(open(filepath, 'rb'))\n",
    "data.keys()"
   ]
  },
  {
   "cell_type": "code",
   "execution_count": null,
   "id": "4b7c5224",
   "metadata": {},
   "outputs": [],
   "source": [
    "bigram_mask_first_session = [x for x in bigram_mask if x < 8622]\n",
    "len(bigram_mask_first_session)"
   ]
  },
  {
   "cell_type": "code",
   "execution_count": null,
   "id": "33d2695f",
   "metadata": {},
   "outputs": [],
   "source": [
    "X = data['X_Glove']\n",
    "y = data['y_Glove']\n",
    "selfpred_GloVe_no_bigrams = self_predictability(X = X[bigram_mask_first_session],\n",
    "                                                y = np.swapaxes(y[bigram_mask_first_session], 0, 1))\n",
    "\n",
    "X = data['X_GPT']\n",
    "y = data['y_GPT']\n",
    "selfpred_GPT_no_bigrams = self_predictability(X = X[bigram_mask_first_session],\n",
    "                                                y = np.swapaxes(y[bigram_mask_first_session], 0, 1))\n",
    "\n",
    "X = data['X_arbitrary']\n",
    "y = data['y_arbitrary']\n",
    "selfpred_arbitrary_no_bigrams = self_predictability(X = X[bigram_mask_first_session],\n",
    "                                                    y = np.swapaxes(y[bigram_mask_first_session], 0, 1))\n",
    "\n",
    "\n",
    "# and save:\n",
    "filename = 'bigrams_removed_Glove_GPT_Arbitrary_session_1.pkl'\n",
    "filepath = results_path + filename\n",
    "\n",
    "values = [selfpred_GloVe_no_bigrams, selfpred_GPT_no_bigrams, selfpred_arbitrary_no_bigrams]\n",
    "keys   = ['corr_GloVe', 'corr_GPT', 'corr_Arbitrary']\n",
    "results= dict(zip(keys, values))\n",
    "\n",
    "f = open(filepath,\"wb\")\n",
    "pickle.dump(results,f)\n",
    "f.close()"
   ]
  }
 ],
 "metadata": {
  "kernelspec": {
   "display_name": "encoding_env",
   "language": "python",
   "name": "python3"
  },
  "language_info": {
   "codemirror_mode": {
    "name": "ipython",
    "version": 3
   },
   "file_extension": ".py",
   "mimetype": "text/x-python",
   "name": "python",
   "nbconvert_exporter": "python",
   "pygments_lexer": "ipython3",
   "version": "3.10.18"
  }
 },
 "nbformat": 4,
 "nbformat_minor": 5
}
