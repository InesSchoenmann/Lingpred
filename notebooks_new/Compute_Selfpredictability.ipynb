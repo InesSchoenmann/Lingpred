{
 "cells": [
  {
   "cell_type": "code",
   "execution_count": 6,
   "id": "d4f56486",
   "metadata": {},
   "outputs": [],
   "source": [
    "import sys\n",
    "import os \n",
    "from pathlib import Path\n",
    "\n",
    "import pickle \n",
    "import numpy as np\n",
    "import pandas as pd\n",
    "sys.path.insert(0,str('/Users/ines/research/Lingpred'))\n",
    "sys.path.insert(0,str(Path().absolute()/\"Lingpred\"))\n",
    "import lingpred_new\n",
    "from lingpred_new.encoding_analysis import self_predictability\n",
    "    \n",
    "import seaborn as sns\n",
    "import matplotlib as plt\n",
    "from matplotlib import pyplot as plt\n",
    "sns.set_theme()"
   ]
  },
  {
   "cell_type": "code",
   "execution_count": 7,
   "id": "51a03be0",
   "metadata": {},
   "outputs": [],
   "source": [
    "#dataset = 'Armani'\n",
    "#dataset = 'Gwilliams'\n",
    "dataset = 'Goldstein'\n",
    "\n",
    "if dataset == 'Goldstein':\n",
    "    data_path    = '/audio/{}/'.format(dataset)\n",
    "    results_path = data_path\n",
    "data_path    = '/project/3018059.03/Lingpred/data/{}/self_predictability/'.format(dataset)\n",
    "results_path = '/project/3018059.03/Lingpred/results/{}/self_predictability/'.format(dataset)"
   ]
  },
  {
   "cell_type": "code",
   "execution_count": null,
   "id": "99bc5b02",
   "metadata": {},
   "outputs": [],
   "source": [
    "\n",
    "# load dataframe with the surprisal & prediction values:\n",
    "path = '/project/3018059.03/Lingpred/data/{}/Dataframe_WordSurprisal_Top10Words_All_Sessions.pkl'.format(dataset)\n",
    "df   = pickle.load(open(path, 'rb'))\n",
    "        \n",
    "# make masks for correct and incorrect top-5 prediction\n",
    "is_top_5      = df.is_Top_5.to_numpy()\n",
    "is_not_top_5  = np.array([not x for x in is_top_5])\n",
    "\n",
    "# make masks for correct and incorrect top-5 prediction\n",
    "is_top_1      = df.is_Top_1.to_numpy()\n",
    "is_not_top_1  = np.array([not x for x in is_top_1])"
   ]
  },
  {
   "cell_type": "code",
   "execution_count": null,
   "id": "f2a14174",
   "metadata": {},
   "outputs": [],
   "source": [
    "# get dataframe to make the bigram mask:\n",
    "df_words_all = pd.DataFrame()\n",
    "\n",
    "for session in np.arange(1, 11):\n",
    "    df_words = lingpred_new.io.get_words_onsets_offsets(None, \n",
    "                                                    dataset=dataset, \n",
    "                                                    subject=1, \n",
    "                                                    session=session, \n",
    "                                                    run=1)\n",
    "    df_words_all = df_words_all.append(df_words)\n",
    "\n",
    "bigram_mask = lingpred_new.utils.get_bigram_mask(df_words_all)"
   ]
  },
  {
   "cell_type": "code",
   "execution_count": null,
   "id": "025e2f5a",
   "metadata": {},
   "outputs": [],
   "source": [
    "if dataset== 'Armani':\n",
    "    file_name  = 'X_y_matrices_Glove_GPT_arbitrary_session_1.pkl'\n",
    "if dataset== 'Gwilliams':\n",
    "    file_name  = 'X_y_matrices_GPT_Glove_arbitrary.pkl'\n",
    "filepath = data_path + file_name\n",
    "data     = pickle.load(open(filepath, 'rb'))\n",
    "data.keys()"
   ]
  },
  {
   "cell_type": "code",
   "execution_count": null,
   "id": "4b7c5224",
   "metadata": {},
   "outputs": [],
   "source": [
    "bigram_mask_first_session = [x for x in bigram_mask if x < 8622]\n",
    "len(bigram_mask_first_session)"
   ]
  },
  {
   "cell_type": "code",
   "execution_count": null,
   "id": "33d2695f",
   "metadata": {},
   "outputs": [],
   "source": [
    "X = data['X_Glove']\n",
    "y = data['y_Glove']\n",
    "selfpred_GloVe_no_bigrams = self_predictability(X = X[bigram_mask_first_session],\n",
    "                                                y = np.swapaxes(y[bigram_mask_first_session], 0, 1))\n",
    "\n",
    "X = data['X_GPT']\n",
    "y = data['y_GPT']\n",
    "selfpred_GPT_no_bigrams = self_predictability(X = X[bigram_mask_first_session],\n",
    "                                                y = np.swapaxes(y[bigram_mask_first_session], 0, 1))\n",
    "\n",
    "X = data['X_arbitrary']\n",
    "y = data['y_arbitrary']\n",
    "selfpred_arbitrary_no_bigrams = self_predictability(X = X[bigram_mask_first_session],\n",
    "                                                    y = np.swapaxes(y[bigram_mask_first_session], 0, 1))\n",
    "\n",
    "\n",
    "# and save:\n",
    "filename = 'bigrams_removed_Glove_GPT_Arbitrary_session_1.pkl'\n",
    "filepath = results_path + filename\n",
    "\n",
    "values = [selfpred_GloVe_no_bigrams, selfpred_GPT_no_bigrams, selfpred_arbitrary_no_bigrams]\n",
    "keys   = ['corr_GloVe', 'corr_GPT', 'corr_Arbitrary']\n",
    "results= dict(zip(keys, values))\n",
    "\n",
    "f = open(filepath,\"wb\")\n",
    "pickle.dump(results,f)\n",
    "f.close()"
   ]
  },
  {
   "cell_type": "markdown",
   "id": "8faf6cd7",
   "metadata": {},
   "source": [
    "## Load / Make vectors for Encoding"
   ]
  },
  {
   "cell_type": "code",
   "execution_count": null,
   "id": "9e3737bd",
   "metadata": {},
   "outputs": [
    {
     "data": {
      "text/plain": [
       "((5136, 300), (5135, 300))"
      ]
     },
     "execution_count": 10,
     "metadata": {},
     "output_type": "execute_result"
    }
   ],
   "source": [
    "# Let's get X matrices for arbitrary vectors:\n",
    "\n",
    "from lingpred_new.utils import get_words_onsets_offsets\n",
    "from lingpred_new.encoding_analysis import make_arbitrary_static_vectors, regress_out_one\n",
    "\n",
    "words_df            = get_words_onsets_offsets(dataset)\n",
    "X_arbitrary_vectors = make_arbitrary_static_vectors(words_df, dim=300)\n",
    "\n",
    "X_arbitrary_residualised = regress_out_one(X_arbitrary_vectors)\n",
    "\n",
    "X_arbitrary_vectors.shape, X_arbitrary_residualised.shape"
   ]
  },
  {
   "cell_type": "code",
   "execution_count": null,
   "id": "8eff2377",
   "metadata": {},
   "outputs": [
    {
     "data": {
      "text/plain": [
       "((5136, 300), (5135, 300))"
      ]
     },
     "execution_count": 11,
     "metadata": {},
     "output_type": "execute_result"
    }
   ],
   "source": [
    "import spacy\n",
    "\n",
    "nlp     = spacy.load('en_core_web_lg')\n",
    "X_Glove = np.vstack([nlp(word).vector for word in words_df.word]) # np array of shape (nr_words, 300)\n",
    "#X_Glove = np.array(X_Glove.get()) # transform from cupy to numpy array for stacking later on \n",
    "X_Glove_residualised = regress_out_one(X_Glove)\n",
    "X_Glove.shape, X_Glove_residualised.shape"
   ]
  },
  {
   "cell_type": "markdown",
   "id": "09feef28",
   "metadata": {},
   "source": [
    "## Get the indices to make the y matrix"
   ]
  },
  {
   "cell_type": "code",
   "execution_count": 12,
   "id": "fee83784",
   "metadata": {},
   "outputs": [
    {
     "data": {
      "text/plain": [
       "(5136, 157)"
      ]
     },
     "execution_count": 12,
     "metadata": {},
     "output_type": "execute_result"
    }
   ],
   "source": [
    "# load the indices:\n",
    "with open('/Users/ines/research/Lingpred/audio/Goldstein/indices_all_tasks.pkl', 'rb') as f:\n",
    "    indices = pickle.load(f)\n",
    "\n",
    "indices.shape"
   ]
  },
  {
   "cell_type": "code",
   "execution_count": 30,
   "id": "422887c0",
   "metadata": {},
   "outputs": [],
   "source": [
    "def make_y_matrix_for_selfpred(X, indices, acoustic_model=False):\n",
    "    \n",
    "    # initialise y \n",
    "    y = np.empty(shape=(indices.shape[0], indices.shape[1], X.shape[1], )) # n_words, n_timepoints, dim   \n",
    "    \n",
    "    for word_index in range(indices.shape[0]):\n",
    "        for nr, time_index in enumerate(indices[word_index]):\n",
    "            y[word_index][nr] = X[time_index]\n",
    "    return y\n",
    "\n",
    "y_arbitrary = make_y_matrix_for_selfpred(indices=indices, X=X_arbitrary_vectors)\n",
    "y_Glove     = make_y_matrix_for_selfpred(indices=indices, X=X_Glove)"
   ]
  },
  {
   "cell_type": "code",
   "execution_count": 31,
   "id": "940c15a1",
   "metadata": {},
   "outputs": [
    {
     "data": {
      "text/plain": [
       "((5136, 157, 300), (5136, 157, 300))"
      ]
     },
     "execution_count": 31,
     "metadata": {},
     "output_type": "execute_result"
    }
   ],
   "source": [
    "y_arbitrary.shape, y_Glove.shape"
   ]
  },
  {
   "cell_type": "code",
   "execution_count": 32,
   "id": "a331f89c",
   "metadata": {},
   "outputs": [
    {
     "name": "stdout",
     "output_type": "stream",
     "text": [
      "We are now in the regression, and y has shape:\n",
      "(300, 5136, 157)\n",
      "We are now in the regression, and y has shape:\n",
      "(300, 5136, 157)\n",
      "We are now in the regression, and y has shape:\n",
      "(300, 5135, 157)\n",
      "We are now in the regression, and y has shape:\n",
      "(300, 5135, 157)\n"
     ]
    }
   ],
   "source": [
    "selfpred_arbitrary = self_predictability(X=X_arbitrary_vectors, y=np.swapaxes(np.swapaxes(y_arbitrary, 0, 2), 1, 2))\n",
    "selfpred_Glove = self_predictability(X=X_Glove, y=np.swapaxes(np.swapaxes(y_Glove, 0, 2), 1, 2))\n",
    "\n",
    "# for residualised we drop the first 'epoch' from y:\n",
    "selfpred_arbitrary_residualised = self_predictability(X=X_arbitrary_residualised, \n",
    "                                                      y=np.swapaxes(np.swapaxes(y_arbitrary[1:], 0, 2), 1, 2))\n",
    "selfpred_Glove_residualised = self_predictability(X=X_Glove_residualised, \n",
    "                                                      y=np.swapaxes(np.swapaxes(y_Glove[1:], 0, 2), 1, 2))"
   ]
  },
  {
   "cell_type": "code",
   "execution_count": 38,
   "id": "4867869d",
   "metadata": {},
   "outputs": [
    {
     "name": "stdout",
     "output_type": "stream",
     "text": [
      "['layer-0', 'layer-1', 'layer-10', 'layer-11', 'layer-12', 'layer-13', 'layer-14', 'layer-15', 'layer-16', 'layer-17', 'layer-18', 'layer-19', 'layer-2', 'layer-20', 'layer-21', 'layer-22', 'layer-23', 'layer-24', 'layer-25', 'layer-26', 'layer-27', 'layer-28', 'layer-29', 'layer-3', 'layer-30', 'layer-31', 'layer-32', 'layer-33', 'layer-34', 'layer-35', 'layer-36', 'layer-37', 'layer-38', 'layer-39', 'layer-4', 'layer-40', 'layer-41', 'layer-42', 'layer-43', 'layer-44', 'layer-45', 'layer-46', 'layer-47', 'layer-48', 'layer-5', 'layer-6', 'layer-7', 'layer-8', 'layer-9']\n"
     ]
    }
   ],
   "source": [
    "import h5py\n",
    "\n",
    "with h5py.File('/Users/ines/research/Lingpred/Goldstein_gpt_features/features.hdf5', 'r') as f:\n",
    "    print(list(f.keys()))\n",
    "    X_GPT = f['layer-8'][:]"
   ]
  },
  {
   "cell_type": "code",
   "execution_count": 39,
   "id": "8a78d868",
   "metadata": {},
   "outputs": [
    {
     "data": {
      "text/plain": [
       "(5491, 1600)"
      ]
     },
     "execution_count": 39,
     "metadata": {},
     "output_type": "execute_result"
    }
   ],
   "source": [
    "X_GPT.shape"
   ]
  },
  {
   "cell_type": "code",
   "execution_count": 44,
   "id": "e9daf034",
   "metadata": {},
   "outputs": [
    {
     "data": {
      "text/html": [
       "<div>\n",
       "<style scoped>\n",
       "    .dataframe tbody tr th:only-of-type {\n",
       "        vertical-align: middle;\n",
       "    }\n",
       "\n",
       "    .dataframe tbody tr th {\n",
       "        vertical-align: top;\n",
       "    }\n",
       "\n",
       "    .dataframe thead th {\n",
       "        text-align: right;\n",
       "    }\n",
       "</style>\n",
       "<table border=\"1\" class=\"dataframe\">\n",
       "  <thead>\n",
       "    <tr style=\"text-align: right;\">\n",
       "      <th></th>\n",
       "      <th>word_idx</th>\n",
       "      <th>word</th>\n",
       "      <th>start</th>\n",
       "      <th>end</th>\n",
       "      <th>hftoken</th>\n",
       "      <th>token_id</th>\n",
       "      <th>rank</th>\n",
       "      <th>true_prob</th>\n",
       "      <th>top_pred</th>\n",
       "      <th>entropy</th>\n",
       "    </tr>\n",
       "  </thead>\n",
       "  <tbody>\n",
       "    <tr>\n",
       "      <th>0</th>\n",
       "      <td>0</td>\n",
       "      <td>Act</td>\n",
       "      <td>3.710</td>\n",
       "      <td>3.790</td>\n",
       "      <td>Ä Act</td>\n",
       "      <td>2191</td>\n",
       "      <td>1644</td>\n",
       "      <td>0.000012</td>\n",
       "      <td>0</td>\n",
       "      <td>2.402717</td>\n",
       "    </tr>\n",
       "    <tr>\n",
       "      <th>1</th>\n",
       "      <td>1</td>\n",
       "      <td>one,</td>\n",
       "      <td>3.990</td>\n",
       "      <td>4.190</td>\n",
       "      <td>Ä one</td>\n",
       "      <td>530</td>\n",
       "      <td>92</td>\n",
       "      <td>0.000342</td>\n",
       "      <td>352</td>\n",
       "      <td>3.732053</td>\n",
       "    </tr>\n",
       "    <tr>\n",
       "      <th>2</th>\n",
       "      <td>1</td>\n",
       "      <td>one,</td>\n",
       "      <td>3.990</td>\n",
       "      <td>4.190</td>\n",
       "      <td>,</td>\n",
       "      <td>11</td>\n",
       "      <td>3</td>\n",
       "      <td>0.059520</td>\n",
       "      <td>25</td>\n",
       "      <td>4.259335</td>\n",
       "    </tr>\n",
       "    <tr>\n",
       "      <th>3</th>\n",
       "      <td>2</td>\n",
       "      <td>monkey</td>\n",
       "      <td>4.651</td>\n",
       "      <td>4.931</td>\n",
       "      <td>Ä monkey</td>\n",
       "      <td>21657</td>\n",
       "      <td>4022</td>\n",
       "      <td>0.000018</td>\n",
       "      <td>3715</td>\n",
       "      <td>6.621269</td>\n",
       "    </tr>\n",
       "    <tr>\n",
       "      <th>4</th>\n",
       "      <td>3</td>\n",
       "      <td>in</td>\n",
       "      <td>4.951</td>\n",
       "      <td>5.011</td>\n",
       "      <td>Ä in</td>\n",
       "      <td>287</td>\n",
       "      <td>15</td>\n",
       "      <td>0.004237</td>\n",
       "      <td>0</td>\n",
       "      <td>4.444838</td>\n",
       "    </tr>\n",
       "    <tr>\n",
       "      <th>...</th>\n",
       "      <td>...</td>\n",
       "      <td>...</td>\n",
       "      <td>...</td>\n",
       "      <td>...</td>\n",
       "      <td>...</td>\n",
       "      <td>...</td>\n",
       "      <td>...</td>\n",
       "      <td>...</td>\n",
       "      <td>...</td>\n",
       "      <td>...</td>\n",
       "    </tr>\n",
       "    <tr>\n",
       "      <th>5486</th>\n",
       "      <td>5132</td>\n",
       "      <td>to</td>\n",
       "      <td>1798.666</td>\n",
       "      <td>1798.746</td>\n",
       "      <td>Ä to</td>\n",
       "      <td>284</td>\n",
       "      <td>0</td>\n",
       "      <td>0.202626</td>\n",
       "      <td>284</td>\n",
       "      <td>3.946364</td>\n",
       "    </tr>\n",
       "    <tr>\n",
       "      <th>5487</th>\n",
       "      <td>5133</td>\n",
       "      <td>court</td>\n",
       "      <td>1798.786</td>\n",
       "      <td>1799.006</td>\n",
       "      <td>Ä court</td>\n",
       "      <td>2184</td>\n",
       "      <td>99</td>\n",
       "      <td>0.000510</td>\n",
       "      <td>257</td>\n",
       "      <td>3.669363</td>\n",
       "    </tr>\n",
       "    <tr>\n",
       "      <th>5488</th>\n",
       "      <td>5134</td>\n",
       "      <td>over</td>\n",
       "      <td>1799.046</td>\n",
       "      <td>1799.226</td>\n",
       "      <td>Ä over</td>\n",
       "      <td>625</td>\n",
       "      <td>4</td>\n",
       "      <td>0.062957</td>\n",
       "      <td>284</td>\n",
       "      <td>3.113599</td>\n",
       "    </tr>\n",
       "    <tr>\n",
       "      <th>5489</th>\n",
       "      <td>5135</td>\n",
       "      <td>it.</td>\n",
       "      <td>1799.327</td>\n",
       "      <td>1799.367</td>\n",
       "      <td>Ä it</td>\n",
       "      <td>340</td>\n",
       "      <td>5</td>\n",
       "      <td>0.013904</td>\n",
       "      <td>257</td>\n",
       "      <td>3.032331</td>\n",
       "    </tr>\n",
       "    <tr>\n",
       "      <th>5490</th>\n",
       "      <td>5135</td>\n",
       "      <td>it.</td>\n",
       "      <td>1799.327</td>\n",
       "      <td>1799.367</td>\n",
       "      <td>.</td>\n",
       "      <td>13</td>\n",
       "      <td>0</td>\n",
       "      <td>0.640683</td>\n",
       "      <td>13</td>\n",
       "      <td>1.988709</td>\n",
       "    </tr>\n",
       "  </tbody>\n",
       "</table>\n",
       "<p>5491 rows × 10 columns</p>\n",
       "</div>"
      ],
      "text/plain": [
       "      word_idx    word     start       end   hftoken  token_id  rank  \\\n",
       "0            0     Act     3.710     3.790     Ä Act      2191  1644   \n",
       "1            1    one,     3.990     4.190     Ä one       530    92   \n",
       "2            1    one,     3.990     4.190         ,        11     3   \n",
       "3            2  monkey     4.651     4.931  Ä monkey     21657  4022   \n",
       "4            3      in     4.951     5.011      Ä in       287    15   \n",
       "...        ...     ...       ...       ...       ...       ...   ...   \n",
       "5486      5132      to  1798.666  1798.746      Ä to       284     0   \n",
       "5487      5133   court  1798.786  1799.006   Ä court      2184    99   \n",
       "5488      5134    over  1799.046  1799.226    Ä over       625     4   \n",
       "5489      5135     it.  1799.327  1799.367      Ä it       340     5   \n",
       "5490      5135     it.  1799.327  1799.367         .        13     0   \n",
       "\n",
       "      true_prob  top_pred   entropy  \n",
       "0      0.000012         0  2.402717  \n",
       "1      0.000342       352  3.732053  \n",
       "2      0.059520        25  4.259335  \n",
       "3      0.000018      3715  6.621269  \n",
       "4      0.004237         0  4.444838  \n",
       "...         ...       ...       ...  \n",
       "5486   0.202626       284  3.946364  \n",
       "5487   0.000510       257  3.669363  \n",
       "5488   0.062957       284  3.113599  \n",
       "5489   0.013904       257  3.032331  \n",
       "5490   0.640683        13  1.988709  \n",
       "\n",
       "[5491 rows x 10 columns]"
      ]
     },
     "execution_count": 44,
     "metadata": {},
     "output_type": "execute_result"
    }
   ],
   "source": [
    "gpt_dataframe = pd.read_csv('/Users/ines/research/Lingpred/Goldstein_gpt_features/transcript_data_gpt.txt', \n",
    "                            sep='\\t',\n",
    "                            index_col='Unnamed: 0')\n",
    "gpt_dataframe"
   ]
  },
  {
   "cell_type": "code",
   "execution_count": 45,
   "id": "fe031911",
   "metadata": {},
   "outputs": [
    {
     "data": {
      "text/plain": [
       "5136"
      ]
     },
     "execution_count": 45,
     "metadata": {},
     "output_type": "execute_result"
    }
   ],
   "source": [
    "mask            = gpt_dataframe[\"word_idx\"] != gpt_dataframe[\"word_idx\"].shift(-1)\n",
    "df_filtered     = gpt_dataframe[mask]\n",
    "mask_last_token = df_filtered.index\n",
    "len(mask_last_token)"
   ]
  },
  {
   "cell_type": "code",
   "execution_count": null,
   "id": "030b6e4e",
   "metadata": {},
   "outputs": [
    {
     "data": {
      "text/plain": [
       "((5136, 1600), (5135, 1600))"
      ]
     },
     "execution_count": 49,
     "metadata": {},
     "output_type": "execute_result"
    }
   ],
   "source": [
    "X_GPT              = X_GPT[mask_last_token]\n",
    "X_GPT_residualised = regress_out_one(X_GPT)\n",
    "X_GPT.shape, X_GPT_residualised.shape"
   ]
  },
  {
   "cell_type": "code",
   "execution_count": 51,
   "id": "688c7fc8",
   "metadata": {},
   "outputs": [
    {
     "data": {
      "text/plain": [
       "(5136, 157, 1600)"
      ]
     },
     "execution_count": 51,
     "metadata": {},
     "output_type": "execute_result"
    }
   ],
   "source": [
    "y_GPT = make_y_matrix_for_selfpred(indices=indices, X=X_GPT)\n",
    "y_GPT.shape"
   ]
  },
  {
   "cell_type": "code",
   "execution_count": 52,
   "id": "946c67df",
   "metadata": {},
   "outputs": [
    {
     "name": "stdout",
     "output_type": "stream",
     "text": [
      "We are now in the regression, and y has shape:\n",
      "(1600, 5136, 157)\n",
      "We are now in the regression, and y has shape:\n",
      "(1600, 5135, 157)\n"
     ]
    }
   ],
   "source": [
    "\n",
    "selfpred_GPT = self_predictability(X=X_GPT, y=np.swapaxes(np.swapaxes(y_GPT, 0, 2), 1, 2))\n",
    "\n",
    "# for residualised we drop the first 'epoch' from y:\n",
    "selfpred_GPT_residualised = self_predictability(X=X_GPT_residualised, \n",
    "                                                y=np.swapaxes(np.swapaxes(y_GPT[1:], 0, 2), 1, 2))"
   ]
  },
  {
   "cell_type": "code",
   "execution_count": 54,
   "id": "fd7b1b93",
   "metadata": {},
   "outputs": [],
   "source": [
    "# save the GTP features:\n",
    "values   = [selfpred_GPT, selfpred_GPT_residualised]\n",
    "keys     = ['selfpred_GPT_layer_8', 'selfpred_GPT_residualised_layer_8']\n",
    "results  = dict(zip(keys, values))\n",
    "filepath =   '/Users/ines/research/Lingpred/audio/Goldstein/selfpred_GPT_original_and_residualised_layer_8.pkl'\n",
    "\n",
    "f = open(filepath,\"wb\")\n",
    "pickle.dump(results,f)\n",
    "f.close()"
   ]
  },
  {
   "cell_type": "code",
   "execution_count": 55,
   "id": "47da41d9",
   "metadata": {},
   "outputs": [],
   "source": [
    "# save the GTP features:\n",
    "values   = [X_GPT, X_GPT_residualised]\n",
    "keys     = ['X_GPT_layer_8', 'X_GPT_residualised_layer_8']\n",
    "results  = dict(zip(keys, values))\n",
    "filepath =  '/Users/ines/research/Lingpred/audio/Goldstein//X_GPT_original_and_residualised_layer_8.pkl'\n",
    "\n",
    "f = open(filepath,\"wb\")\n",
    "pickle.dump(results,f)\n",
    "f.close()"
   ]
  },
  {
   "cell_type": "markdown",
   "id": "172989ce",
   "metadata": {},
   "source": [
    "## Plots"
   ]
  },
  {
   "cell_type": "code",
   "execution_count": 56,
   "id": "ef5cbdd1",
   "metadata": {},
   "outputs": [
    {
     "data": {
      "text/plain": [
       "Text(0.5, 1.0, 'Goldstein:Self-predictability')"
      ]
     },
     "execution_count": 56,
     "metadata": {},
     "output_type": "execute_result"
    },
    {
     "data": {
      "image/png": "[encoded data removed]",
      "text/plain": [
       "<Figure size 400x400 with 1 Axes>"
      ]
     },
     "metadata": {},
     "output_type": "display_data"
    }
   ],
   "source": [
    "from lingpred_new.plotting import times_100, colours, lowerCI, upperCI\n",
    "\n",
    "# get model names\n",
    "models = ['GPT', 'Glove', 'Arbitrary']\n",
    "labels = models\n",
    "    \n",
    "    \n",
    "fig, (ax1) = plt.subplots(1, 1, figsize=(4, 4))\n",
    "\n",
    "for i, corr in enumerate([selfpred_GPT, selfpred_Glove, selfpred_arbitrary]):\n",
    "    ax1.plot(times_100[:78], corr.mean(axis=0)[:78], c=colours[models[i]], label=labels[i])   \n",
    "    ax1.fill_between(times_100[:78], lowerCI(corr)[:78], upperCI(corr)[:78], color=colours[models[i]], alpha=0.3)\n",
    "\n",
    "ax1.legend()\n",
    "#ax1.set_ylim([-0.005, 0.05])\n",
    "ax1.set_xlabel('Time in Seconds', fontsize=12)\n",
    "ax1.set_ylabel('Cross-validated Correlation', fontsize=12)\n",
    "ax1.axhline(c='indianred',  alpha=0.3)\n",
    "ax1.set_title(dataset+':' + 'Self-predictability')"
   ]
  },
  {
   "cell_type": "code",
   "execution_count": 64,
   "id": "62f679d0",
   "metadata": {},
   "outputs": [
    {
     "data": {
      "text/plain": [
       "Text(0.5, 1.0, 'Goldstein: Residualised Self-predictability')"
      ]
     },
     "execution_count": 64,
     "metadata": {},
     "output_type": "execute_result"
    },
    {
     "data": {
      "image/png": "[encoded data removed]",
      "text/plain": [
       "<Figure size 400x400 with 1 Axes>"
      ]
     },
     "metadata": {},
     "output_type": "display_data"
    }
   ],
   "source": [
    "# get model names\n",
    "models = ['GPT', 'Glove', 'Arbitrary']\n",
    "labels = ['Residualised ' + m for m in models]\n",
    "    \n",
    "    \n",
    "fig, (ax1) = plt.subplots(1, 1, figsize=(4, 4))\n",
    "\n",
    "for i, corr in enumerate([selfpred_GPT_residualised, selfpred_Glove_residualised, selfpred_arbitrary_residualised]):\n",
    "    ax1.plot(times_100, corr.mean(axis=0), c=colours[models[i]], label=labels[i])   \n",
    "    ax1.fill_between(times_100, lowerCI(corr), upperCI(corr), color=colours[models[i]], alpha=0.3)\n",
    "\n",
    "ax1.legend(loc=(0.6,0.75))\n",
    "#ax1.set_ylim([-0.005, 0.05])\n",
    "ax1.set_xlabel('Time in Seconds', fontsize=12)\n",
    "ax1.set_ylabel('Cross-validated Correlation', fontsize=12)\n",
    "ax1.axhline(c='indianred',  alpha=0.3)\n",
    "ax1.set_title(dataset+': ' + 'Residualised Self-predictability')"
   ]
  },
  {
   "cell_type": "code",
   "execution_count": null,
   "id": "f429dfb5",
   "metadata": {},
   "outputs": [],
   "source": []
  }
 ],
 "metadata": {
  "kernelspec": {
   "display_name": "encoding_env",
   "language": "python",
   "name": "python3"
  },
  "language_info": {
   "codemirror_mode": {
    "name": "ipython",
    "version": 3
   },
   "file_extension": ".py",
   "mimetype": "text/x-python",
   "name": "python",
   "nbconvert_exporter": "python",
   "pygments_lexer": "ipython3",
   "version": "3.10.18"
  }
 },
 "nbformat": 4,
 "nbformat_minor": 5
}
